{
  "nbformat": 4,
  "nbformat_minor": 0,
  "metadata": {
    "colab": {
      "provenance": []
    },
    "kernelspec": {
      "name": "python3",
      "display_name": "Python 3"
    },
    "language_info": {
      "name": "python"
    }
  },
  "cells": [
    {
      "cell_type": "markdown",
      "source": [
        "# Python Data Science Libraries with Titanic Dataset\n",
        "\n",
        "Welcome to this tutorial! We will explore the 5 essential Python libraries for data science: NumPy, Pandas, Matplotlib, Seaborn, and Scikit-learn. Using the famous Titanic dataset, we will perform tasks such as numerical operations, data cleaning, creating visualizations, and building a machine learning model to predict passenger survival.\n",
        "\n",
        "## Table of Contents\n",
        "1. [NumPy: Numerical Computations](#numpy)\n",
        "2. [Pandas: Data Manipulation](#pandas)\n",
        "3. [Matplotlib: Basic Plotting](#matplotlib)\n",
        "4. [Seaborn: Advanced Statistical Visualizations](#seaborn)\n",
        "5. [Scikit-learn: Machine Learning](#scikit-learn)"
      ],
      "metadata": {
        "id": "0qY15EwpV0A_"
      }
    },
    {
      "cell_type": "markdown",
      "source": [
        "## NumPy: Numerical Computations <a name=\"numpy\"></a>\n",
        "\n",
        "First up is NumPy, the foundation of scientific computing in Python. NumPy gives us multi-dimensional arrays and a vast collection of mathematical functions. We'll use it for some basic numerical operations.\n"
      ],
      "metadata": {
        "id": "vuEFZxN3WDNx"
      }
    },
    {
      "cell_type": "code",
      "source": [
        " # Import the NumPy library and alias it as np\n"
      ],
      "metadata": {
        "id": "Sa9VShH2WNmM"
      },
      "execution_count": null,
      "outputs": []
    },
    {
      "cell_type": "code",
      "source": [
        "# Create a 2D array\n"
      ],
      "metadata": {
        "id": "-z5XYS71hiM7"
      },
      "execution_count": null,
      "outputs": []
    },
    {
      "cell_type": "code",
      "source": [
        " # Print the created 2D array"
      ],
      "metadata": {
        "id": "kbkCf1uPV0ve"
      },
      "execution_count": null,
      "outputs": []
    },
    {
      "cell_type": "markdown",
      "source": [
        "**Perform operations**"
      ],
      "metadata": {
        "id": "R_KFQp4Sh0Gw"
      }
    },
    {
      "cell_type": "code",
      "source": [
        "# Calculate and print the sum of all elements in the array\n"
      ],
      "metadata": {
        "id": "GitzVmg2WHZb"
      },
      "execution_count": null,
      "outputs": []
    },
    {
      "cell_type": "code",
      "source": [
        "# Calculate and print the mean of the array\n"
      ],
      "metadata": {
        "id": "HF1azPAmh7sv"
      },
      "execution_count": null,
      "outputs": []
    },
    {
      "cell_type": "code",
      "source": [
        " # Transpose the array (swap rows and columns) and print it\n"
      ],
      "metadata": {
        "id": "zyaESeU-h_gA"
      },
      "execution_count": null,
      "outputs": []
    },
    {
      "cell_type": "markdown",
      "source": [
        "## Pandas: Data Manipulation <a name=\"pandas\"></a>\n",
        "Next, let's look at Pandas, your best friend for data manipulation and analysis. For our tutorial, we'll need a dataset to work with. We'll use the Titanic dataset, which contains information about the passengers on the Titanic."
      ],
      "metadata": {
        "id": "TXuOYl4GWdCs"
      }
    },
    {
      "cell_type": "markdown",
      "source": [
        "## Introduction to the Titanic Dataset <a name=\"introduction\"></a>\n",
        "\n",
        "The Titanic dataset is a well-known dataset in the data science community. It contains information about the passengers who were on board the Titanic when it sank in 1912. The dataset includes details such as passenger age, class, fare, and survival status, making it a rich source for various data analysis and machine learning tasks.\n",
        "\n",
        "### Link to the Dataset\n",
        "You can download the dataset from the following link:\n",
        "[Titanic Dataset](https://raw.githubusercontent.com/eduhubai/python-data-science-libraries/main/titanic.csv)\n",
        "\n",
        "### Dataset Description\n",
        "- **PassengerId**: Unique ID for each passenger.\n",
        "- **Survived**: Survival status (0 = No, 1 = Yes).\n",
        "- **Pclass**: Passenger class (1 = 1st, 2 = 2nd, 3 = 3rd).\n",
        "- **Name**: Name of the passenger.\n",
        "- **Sex**: Gender of the passenger.\n",
        "- **Age**: Age of the passenger.\n",
        "- **SibSp**: Number of siblings/spouses aboard the Titanic.\n",
        "- **Parch**: Number of parents/children aboard the Titanic.\n",
        "- **Ticket**: Ticket number.\n",
        "- **Fare**: Passenger fare.\n",
        "- **Cabin**: Cabin number.\n",
        "- **Embarked**: Port of embarkation (C = Cherbourg, Q = Queenstown, S = Southampton).\n"
      ],
      "metadata": {
        "id": "t9FCKOsLej4I"
      }
    },
    {
      "cell_type": "markdown",
      "source": [
        "### Loading and Exploring the Dataset"
      ],
      "metadata": {
        "id": "H1sOmaHof66J"
      }
    },
    {
      "cell_type": "code",
      "source": [
        " # Import the Pandas library and alias it as pd\n"
      ],
      "metadata": {
        "id": "9x9U__kUWqdE"
      },
      "execution_count": null,
      "outputs": []
    },
    {
      "cell_type": "code",
      "source": [
        "# Load the Titanic dataset\n"
      ],
      "metadata": {
        "id": "HG-GaIjaicWo"
      },
      "execution_count": null,
      "outputs": []
    },
    {
      "cell_type": "code",
      "source": [
        "# Print the first 5 rows of the DataFrame\n"
      ],
      "metadata": {
        "id": "IfI1AqKOiglr"
      },
      "execution_count": null,
      "outputs": []
    },
    {
      "cell_type": "code",
      "source": [
        "# Print basic statistics (count, mean, std, min, 25%, 50%, 75%, max) for each column in the DataFrame\n"
      ],
      "metadata": {
        "id": "t_dUP1llikD-"
      },
      "execution_count": null,
      "outputs": []
    },
    {
      "cell_type": "code",
      "source": [
        "# Group the data by 'Pclass' and calculate the mean of each group, then print the result\n"
      ],
      "metadata": {
        "id": "FWoyL23siqZG"
      },
      "execution_count": null,
      "outputs": []
    },
    {
      "cell_type": "markdown",
      "source": [
        "## Matplotlib: Basic Plotting <a name=\"matplotlib\"></a>\n",
        "Now, let's visualize our data with Matplotlib, the most widely used plotting library in Python. We'll create a bar plot to show the number of passengers by class and a histogram to show the distribution of passenger ages."
      ],
      "metadata": {
        "id": "o8vndwoAXFqn"
      }
    },
    {
      "cell_type": "code",
      "source": [
        "# Import the Matplotlib library's pyplot module and alias it as plt\n",
        "\n"
      ],
      "metadata": {
        "id": "dbYvpdw_XKiV"
      },
      "execution_count": null,
      "outputs": []
    },
    {
      "cell_type": "markdown",
      "source": [
        "**Creating Bar plot**"
      ],
      "metadata": {
        "id": "3qqHAz4ijGK1"
      }
    },
    {
      "cell_type": "code",
      "source": [
        "# 1. Create a new figure with a specific size\n",
        "\n",
        "# 2. Create a bar plot of the counts of each passenger class\n",
        "\n",
        "# 3. Set the title of the plot\n",
        "\n",
        "# 4. Set the label for the x-axis\n",
        "\n",
        "# 5. Set the label for the y-axis\n",
        "\n",
        "# 6. Display the plot\n"
      ],
      "metadata": {
        "id": "8Pf3boZ6izp8"
      },
      "execution_count": null,
      "outputs": []
    },
    {
      "cell_type": "markdown",
      "source": [
        "Explain the graph:"
      ],
      "metadata": {
        "id": "6u914QGrjZsp"
      }
    },
    {
      "cell_type": "markdown",
      "source": [
        "**Crating Histogram**"
      ],
      "metadata": {
        "id": "wgFoJmIRjMJs"
      }
    },
    {
      "cell_type": "code",
      "source": [
        "# 1. Create a new figure with a specific size\n",
        "\n",
        "# 2. Create a histogram of the ages of the passengers, with 30 bins\n",
        "\n",
        "# 3. Set the title of the plot\n",
        "\n",
        "# 4. Set the label for the x-axis\n",
        "\n",
        "# 5. Set the label for the y-axis\n",
        "\n",
        "# 6. Display the plot\n"
      ],
      "metadata": {
        "id": "0b_vZTOlbgji"
      },
      "execution_count": null,
      "outputs": []
    },
    {
      "cell_type": "markdown",
      "source": [
        "Explain the graph:"
      ],
      "metadata": {
        "id": "WCHBHIt0btwM"
      }
    },
    {
      "cell_type": "markdown",
      "source": [
        "## Seaborn: Advanced Statistical Visualizations <a name=\"seaborn\"></a>\n",
        "Now, let's explore Seaborn, a statistical data visualization library built on top of Matplotlib. We'll create a pair plot to explore relationships between different features in the Titanic dataset."
      ],
      "metadata": {
        "id": "yd9Ns8Z4Xpq2"
      }
    },
    {
      "cell_type": "code",
      "source": [
        "# Import the Seaborn library and alias it as sns\n"
      ],
      "metadata": {
        "id": "ElHZ5ac5XtpR"
      },
      "execution_count": null,
      "outputs": []
    },
    {
      "cell_type": "code",
      "source": [
        "# 1. Set the style of the plots to 'whitegrid'\n",
        "# 2. Create a pair plot of the DataFrame, color-coded by passenger class and showing 'Age' and 'Fare'\n",
        "# 3. Display the plot\n",
        "\n"
      ],
      "metadata": {
        "id": "vmIx4awGjpW7"
      },
      "execution_count": null,
      "outputs": []
    },
    {
      "cell_type": "markdown",
      "source": [
        "Explain the graph:"
      ],
      "metadata": {
        "id": "4Avucx4ubyQQ"
      }
    },
    {
      "cell_type": "markdown",
      "source": [
        "## Scikit-learn: Machine Learning <a name=\"scikit-learn\"></a>\n",
        "Lastly, let's look at Scikit-learn, your go-to library for predictive data analysis. We'll use it to build a machine learning model to predict whether a passenger survived the Titanic disaster based on their age, fare, and class."
      ],
      "metadata": {
        "id": "oCu94PK-dPTW"
      }
    },
    {
      "cell_type": "code",
      "source": [
        "from sklearn.model_selection import train_test_split  # Import the train_test_split function from Scikit-learn\n",
        "from sklearn.ensemble import RandomForestClassifier  # Import the RandomForestClassifier class from Scikit-learn\n",
        "from sklearn.metrics import accuracy_score  # Import the accuracy_score function from Scikit-learn\n",
        "\n",
        "## Prepare the data\n",
        "# 1. Drop rows with missing values in 'Age', 'Fare', 'Pclass', and 'Survived'\n",
        "# 2. Use 'Age', 'Fare', and 'Pclass' as features (X)\n",
        "# 3. Use 'Survived' as the target (y)\n",
        "\n",
        "## Split the data\n",
        "# Split the data into training and test sets\n",
        "\n",
        "## Train a model\n",
        "# 1. Create a RandomForestClassifier with 100 trees\n",
        "# 2. Train the model on the training data\n",
        "\n",
        "## Make predictions\n",
        "# Predict the survival status for the test data\n",
        "\n",
        "## Evaluate the model\n",
        "# 1. Calculate the accuracy of the model\n",
        "# 2. Print the accuracy\n"
      ],
      "metadata": {
        "id": "iRYAgQhWWUOU"
      },
      "execution_count": null,
      "outputs": []
    },
    {
      "cell_type": "markdown",
      "source": [
        "**Explanation:**"
      ],
      "metadata": {
        "id": "-hGBuoDjdZOJ"
      }
    },
    {
      "cell_type": "markdown",
      "source": [
        "## Conclusion: Mastering Python Libraries for Data Science with the Titanic Dataset\n",
        "And there you have it! We've covered the 5 essential Python libraries for data science: NumPy for numerical computing, Pandas for data manipulation, Matplotlib for basic plotting, Seaborn for statistical visualizations, and Scikit-learn for machine learning. Using the Titanic dataset, we've performed numerical operations, data cleaning, created visualizations, and built a machine learning model to predict passenger survival. Each of these libraries has much more to offer, so I encourage you to explore them further. Thanks for watching, and happy coding!"
      ],
      "metadata": {
        "id": "-mfFt1dDgtWN"
      }
    },
    {
      "cell_type": "code",
      "source": [],
      "metadata": {
        "id": "G9c0uH8jkvW3"
      },
      "execution_count": null,
      "outputs": []
    }
  ]
}